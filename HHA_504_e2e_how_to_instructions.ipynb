{
  "nbformat": 4,
  "nbformat_minor": 0,
  "metadata": {
    "colab": {
      "name": "HHA 504 e2e how to instructions",
      "provenance": [],
      "collapsed_sections": [],
      "authorship_tag": "ABX9TyO6zRW9DrFBlt/Ra9xbn9U6",
      "include_colab_link": true
    },
    "kernelspec": {
      "name": "python3",
      "display_name": "Python 3"
    },
    "language_info": {
      "name": "python"
    }
  },
  "cells": [
    {
      "cell_type": "markdown",
      "metadata": {
        "id": "view-in-github",
        "colab_type": "text"
      },
      "source": [
        "<a href=\"https://colab.research.google.com/github/Gtebaldi1/HHA-504-E2E-/blob/main/HHA_504_e2e_how_to_instructions.ipynb\" target=\"_parent\"><img src=\"https://colab.research.google.com/assets/colab-badge.svg\" alt=\"Open In Colab\"/></a>"
      ]
    },
    {
      "cell_type": "markdown",
      "source": [
        "\n",
        "# ***Step 1:Setting up the Virtual Machine ***\n",
        "\n",
        "1. Go to https://azure.microsoft.com/en-us/.\n",
        "2. Create a student account by logging in with your stonybrook email.\n",
        "3. Open your azure portal and click on virtual machines\n",
        "4. Click create virtual machine and set up your machines settings. For    this instance we chose the standard B1s size\n",
        "5. Review and create your machine\n",
        "6. Once machine is deployed click on your machines name and go onto the sidebar to \"networking\" under setttings. Click on \"add inbound port rule\" and add the MySQL port of 3306\n",
        "\n",
        "# **Step 2: Access remote machine using your computers terminal**\n",
        "\n",
        "1. Search \"terminal\" on your computers spotlight search and open it\n",
        "2. Type ssh the username you created for your instance@ ip address for your instance which can be found on your azure portal\n",
        "3. You will then be prompted to enter your password you made for your instance in step 1\n",
        "4. Once in the virtual machine type \"sudo apt-get update\"\n",
        "5. Next type \"sudo apt install mysql-server mysql-client\", this will install MySql onto your virtual machine\n",
        "6. Once the installation is complete type \"sudo mysql\" this will enter you into mysql\n",
        "7. Type \"show databases;\"\n",
        "8. You will then have to create a user, type \"CREATE USER ‘DBA'@'%' IDENTIFIED BY ‘AHI2021’;\n",
        "9. To make sure your user has been created you can type, \"select user from mysql.user;\"\n",
        "10. Next you will need to grant this user privileges, type \"GRANT ALL PRIVILEGES ON . TO 'USERNAME'@'%' WITH GRANT OPTION;\"\n",
        "11. To confirm type, \"show grants for DBA;\"\n",
        "12. To exit MySQL click control + D\n",
        "\n",
        "# **Step 3: Create a new database called ‘e2e’**\n",
        "1. First you need to log back into MySQL on your terminal, this can be done by typing \"mysql -u DBA -p\" and entering your password when prompted \n",
        "2. Next type Create database e2e;\n",
        "3. To confirm your database was created, type \"show databases;\"\n",
        "\n",
        "# **Step 4: Write a python or R script that connects to your SQL instance**\n",
        "1. In the script create a new table called ‘h1n1’, that lives within the ‘e2e’ database - with the following data: https://www.kaggle.com/arashnic/flu-data\n",
        "2. Type the following code,\n",
        "import pandas as pd \n",
        "import sqlalchemy\n",
        "from sqlalchemy import create_engine\n",
        "! pip install pymysql\n",
        "import pymysql as db\n",
        "!pip install cryptography\n",
        "!pip install django-cryptographic-fields\n",
        "!pip install PyMySQL[rsa]\n",
        "\n",
        "MYSQL_HOSTNAME = 'IP address of your instance' \n",
        "MYSQL_USER = 'username'\n",
        "MYSQL_PASSWORD = 'passsword'\n",
        "MYSQL_DATABASE = 'database name'\n",
        "\n",
        "connection_string= f'mysql+pymysql://{MYSQL_USER}:{MYSQL_PASSWORD}@{MYSQL_HOSTNAME}/{MYSQL_DATABASE}'\n",
        "engine = create_engine(connection_string)\n",
        "\n",
        "from google.colab import files\n",
        "uploaded = files.upload()\n",
        "( you will then be prompted to upload your csv file your downloaded)\n",
        "import io\n",
        "import pandas as pd\n",
        "h1n1df= pd.read_csv(io.BytesIO(uploaded['H1N1_Flu_Vaccines.csv']))\n",
        "h1n1df.to_sql('H1N1_Flu_Vaccines.csv', con=engine, if_exists ='append') \n",
        "\n",
        "3. We will then need to go back into the terminal and update MySQL configuration file.\n",
        "4. In the terminal then enter the code \"sudo nano /etc/mysql/mysql.conf.d/mysqld.cnf\"\n",
        "5. Scroll down with arrow keys until you see \"bind-address\" change those numbers to 0.0.0.0\n",
        "6. Then do Control + O to save and Control + X to exit\n",
        "7. Next type the following code \"/etc/init.d/mysql restart\"\n",
        "8. Once this process has finished go back to you phyton file and rerun\n",
        "9. To check log into MySQL in your terminal and type \"show databases;\", \"use e2e;\" , and finally \"show tables;\", you can also log into MySQL workbench to check.\n",
        "\n",
        "# **Step 5: Create a dump (.sql) file that contains a physical backup of the file**\n",
        "\n",
        "1. Create a second instance using the same steps on microsoft azure to make a second virtual machine with all the same settings\n",
        "2. Go to your terminal with your first VM still running and type the code \"sudo mysqldump e2e > backup_e2e.sql\" then type \"ls\"\n",
        "3. To look at the dump file type the code \"nano backup_e2e.sql\"\n",
        "4. Launch your second VM in the terminal to make sure it is working\n",
        "5. Switch back to your first VM in the terminal and type the code, \"scp dump.sql USERNAME@IP of second VM:/home/USERNAME\"\n",
        "6. You will be prompted to enter the password of your second VM\n",
        "7. Enter the code \"ls\" to save\n",
        "\n",
        "# **Step 6: Create a trigger**\n",
        "\n",
        "1. Create a trigger which follows these rules, that pushes an error message to the user when a new row is inserted that has h1n1_concern greater than a value of 3. The trigger should be called h1n1_concern_trigger and should have the following error message: “H1N1 concern should be a numerical value between 0 and 3. Please try again.”\n",
        "2. A file will be on this repo with the command for the trigger\n",
        "\n",
        "\n",
        "\n",
        "\n",
        "\n",
        "\n",
        "\n",
        "\n",
        "\n",
        "\n",
        "\n",
        "\n",
        "\n",
        "\n",
        "\n",
        "\n",
        "\n",
        "\n",
        "\n"
      ],
      "metadata": {
        "id": "nF-R1oQFCOkD"
      }
    },
    {
      "cell_type": "markdown",
      "source": [
        ""
      ],
      "metadata": {
        "id": "a9RjlAXuBb-K"
      }
    }
  ]
}